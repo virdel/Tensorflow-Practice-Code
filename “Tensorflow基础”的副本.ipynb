{
  "nbformat": 4,
  "nbformat_minor": 0,
  "metadata": {
    "colab": {
      "name": "“Tensorflow基础”的副本",
      "provenance": [],
      "collapsed_sections": [],
      "authorship_tag": "ABX9TyOwKneKZkqCrVQJDTDsoJ9C",
      "include_colab_link": true
    },
    "kernelspec": {
      "name": "python3",
      "display_name": "Python 3"
    }
  },
  "cells": [
    {
      "cell_type": "markdown",
      "metadata": {
        "id": "view-in-github",
        "colab_type": "text"
      },
      "source": [
        "<a href=\"https://colab.research.google.com/github/virdel/Tensorflow-Practice-Code/blob/main/%E2%80%9CTensorflow%E5%9F%BA%E7%A1%80%E2%80%9D%E7%9A%84%E5%89%AF%E6%9C%AC.ipynb\" target=\"_parent\"><img src=\"https://colab.research.google.com/assets/colab-badge.svg\" alt=\"Open In Colab\"/></a>"
      ]
    },
    {
      "cell_type": "code",
      "metadata": {
        "colab": {
          "base_uri": "https://localhost:8080/",
          "height": 34
        },
        "id": "kVwcXaA1DL-w",
        "outputId": "8adab42c-0fbb-45e3-80a5-ce4e62f5eb56"
      },
      "source": [
        "import tensorflow as tf\n",
        "\n",
        "tf.__version__"
      ],
      "execution_count": null,
      "outputs": [
        {
          "output_type": "execute_result",
          "data": {
            "application/vnd.google.colaboratory.intrinsic+json": {
              "type": "string"
            },
            "text/plain": [
              "'2.3.0'"
            ]
          },
          "metadata": {
            "tags": []
          },
          "execution_count": 2
        }
      ]
    },
    {
      "cell_type": "code",
      "metadata": {
        "colab": {
          "base_uri": "https://localhost:8080/"
        },
        "id": "JK8zbUdZDWCF",
        "outputId": "41e5d72a-993b-4ee2-ef43-6aa7f9a23702"
      },
      "source": [
        "#定义一个随机数\n",
        "randon_float=tf.random.uniform(shape=())\n",
        "\n",
        "\n",
        "zero_vector=tf.zeros(shape=(2))\n",
        "\n",
        "A=tf.constant([[1.,2.],[3.,4.]])\n",
        "B=tf.constant([[5.,6.],[7.,8.]])\n",
        "\n",
        "\n",
        "print(A.shape)\n",
        "print(B.dtype)\n",
        "print(A.numpy)\n",
        "\n"
      ],
      "execution_count": null,
      "outputs": [
        {
          "output_type": "stream",
          "text": [
            "(2, 2)\n",
            "<dtype: 'float32'>\n",
            "<bound method _EagerTensorBase.numpy of <tf.Tensor: shape=(2, 2), dtype=float32, numpy=\n",
            "array([[1., 2.],\n",
            "       [3., 4.]], dtype=float32)>>\n"
          ],
          "name": "stdout"
        }
      ]
    },
    {
      "cell_type": "code",
      "metadata": {
        "colab": {
          "base_uri": "https://localhost:8080/"
        },
        "id": "rryQhzBiDtTl",
        "outputId": "bd9bc85e-3af5-4071-ce21-374922403617"
      },
      "source": [
        "C=tf.add(A,B)\n",
        "D=tf.matmul(A,B)\n",
        "\n",
        "print(C,D)\n",
        "\n"
      ],
      "execution_count": null,
      "outputs": [
        {
          "output_type": "stream",
          "text": [
            "tf.Tensor(\n",
            "[[ 6.  8.]\n",
            " [10. 12.]], shape=(2, 2), dtype=float32) tf.Tensor(\n",
            "[[19. 22.]\n",
            " [43. 50.]], shape=(2, 2), dtype=float32)\n"
          ],
          "name": "stdout"
        }
      ]
    },
    {
      "cell_type": "code",
      "metadata": {
        "id": "HBQ32fdqEgvZ"
      },
      "source": [
        ""
      ],
      "execution_count": null,
      "outputs": []
    },
    {
      "cell_type": "markdown",
      "metadata": {
        "id": "HzCss7LlEouw"
      },
      "source": [
        "# 自动求导机制"
      ]
    },
    {
      "cell_type": "code",
      "metadata": {
        "colab": {
          "base_uri": "https://localhost:8080/"
        },
        "id": "owoCws0fE0rf",
        "outputId": "1fc22dca-5e29-4def-879f-750be2807c06"
      },
      "source": [
        "x=tf.Variable(initial_value=3.)\n",
        "with tf.GradientTape() as Tape:\n",
        "  y=tf.square(x)\n",
        "\n",
        "y_grad=Tape.gradient(y,x)\n",
        "\n",
        "print(y_grad)"
      ],
      "execution_count": null,
      "outputs": [
        {
          "output_type": "stream",
          "text": [
            "tf.Tensor(6.0, shape=(), dtype=float32)\n"
          ],
          "name": "stdout"
        }
      ]
    },
    {
      "cell_type": "code",
      "metadata": {
        "colab": {
          "base_uri": "https://localhost:8080/"
        },
        "id": "HbINNTJoFhYo",
        "outputId": "e3435590-4343-4464-c2a5-1f6a06846ba0"
      },
      "source": [
        "W=tf.Variable(initial_value=[[1.],[2.]])\n",
        "B=tf.Variable(initial_value=1.)\n",
        "\n",
        "x=tf.constant([[1.,2.],[3.,4.]])\n",
        "y=tf.constant([[1.],[2.]])\n",
        "\n",
        "\n",
        "with tf.GradientTape() as Tape:\n",
        "  #L=(x*W+B-y)**2\n",
        "  L=tf.reduce_sum(tf.square(tf.matmul(x,W)+B-y))\n",
        "\n",
        "w_grad,b_grad=Tape.gradient(L,[W,B])\n",
        "\n",
        "print(w_grad,b_grad)"
      ],
      "execution_count": null,
      "outputs": [
        {
          "output_type": "stream",
          "text": [
            "tf.Tensor(\n",
            "[[ 70.]\n",
            " [100.]], shape=(2, 1), dtype=float32) tf.Tensor(30.0, shape=(), dtype=float32)\n"
          ],
          "name": "stdout"
        }
      ]
    },
    {
      "cell_type": "markdown",
      "metadata": {
        "id": "PP7p5MirNVi9"
      },
      "source": [
        "#numpy线性回归"
      ]
    },
    {
      "cell_type": "code",
      "metadata": {
        "id": "48yYaT2yHUK1"
      },
      "source": [
        "import numpy as np\n",
        "\n",
        "X_raw=np.array([2013,2014,2015,2016,2017],dtype=np.float32)\n",
        "Y_raw=np.array([12000,14000,15000,16500,17500],dtype=np.float32)\n",
        "\n",
        "X=(X_raw-X_raw.min())/(X_raw.max()-X_raw.min())\n",
        "Y=(Y_raw-Y_raw.min())/(X_raw.max()-Y_raw.min())\n"
      ],
      "execution_count": null,
      "outputs": []
    },
    {
      "cell_type": "code",
      "metadata": {
        "colab": {
          "base_uri": "https://localhost:8080/"
        },
        "id": "uBLnpSkAN5zO",
        "outputId": "323f74bf-cc6c-4c4e-d844-9590ad41568a"
      },
      "source": [
        "a,b=0,0\n",
        "num_epoch=10000\n",
        "learning_rate=1e-3\n",
        "\n",
        "for e in range(num_epoch):\n",
        "  y_pred=a*X+b\n",
        "  grad_a,grad_b=2*(y_pred-Y).dot(X),2*(y_pred-Y).sum()\n",
        "  a,b=a-learning_rate*grad_a,b-learning_rate*grad_b\n",
        "\n",
        "print(a,b)"
      ],
      "execution_count": null,
      "outputs": [
        {
          "output_type": "stream",
          "text": [
            "-0.5408971397206209 -0.030063514035195454\n"
          ],
          "name": "stdout"
        }
      ]
    },
    {
      "cell_type": "markdown",
      "metadata": {
        "id": "WQfHVTq5PdNr"
      },
      "source": [
        "# tensorflow 线性回归"
      ]
    },
    {
      "cell_type": "code",
      "metadata": {
        "colab": {
          "base_uri": "https://localhost:8080/"
        },
        "id": "dODEoMW0PLmb",
        "outputId": "6fa1ec82-8055-49e3-b1ad-214d7f817462"
      },
      "source": [
        "x=tf.constant(X)\n",
        "y=tf.constant(Y)\n",
        "print(x,y)"
      ],
      "execution_count": null,
      "outputs": [
        {
          "output_type": "stream",
          "text": [
            "tf.Tensor([0.   0.25 0.5  0.75 1.  ], shape=(5,), dtype=float32) tf.Tensor([-0.         -0.20034058 -0.30051088 -0.4507663  -0.5509366 ], shape=(5,), dtype=float32)\n"
          ],
          "name": "stdout"
        }
      ]
    },
    {
      "cell_type": "code",
      "metadata": {
        "colab": {
          "base_uri": "https://localhost:8080/"
        },
        "id": "dU-1C0HAPteT",
        "outputId": "e1b4104c-eb43-49e9-cb8c-7dcff7a9080e"
      },
      "source": [
        "a=tf.Variable(initial_value=0.)\n",
        "b=tf.Variable(initial_value=0.)\n",
        "\n",
        "variables=[a,b]\n",
        "\n",
        "num_epoch=10000\n",
        "optimizer=tf.keras.optimizers.SGD(learning_rate=1e-3)\n",
        "\n",
        "for e in range(num_epoch):\n",
        "  with tf.GradientTape() as Tape:\n",
        "    y_pred=a*x+b\n",
        "    loss=tf.reduce_sum(tf.square(y_pred-y))\n",
        "  grads=Tape.gradient(loss,variables)\n",
        "\n",
        "  optimizer.apply_gradients(grads_and_vars=zip(grads,variables))\n",
        "\n",
        "print(a,b)"
      ],
      "execution_count": null,
      "outputs": [
        {
          "output_type": "stream",
          "text": [
            "<tf.Variable 'Variable:0' shape=() dtype=float32, numpy=-0.5408933> <tf.Variable 'Variable:0' shape=() dtype=float32, numpy=-0.030064821>\n"
          ],
          "name": "stdout"
        }
      ]
    },
    {
      "cell_type": "code",
      "metadata": {
        "id": "phRAziJgRE2Y"
      },
      "source": [
        ""
      ],
      "execution_count": null,
      "outputs": []
    }
  ]
}